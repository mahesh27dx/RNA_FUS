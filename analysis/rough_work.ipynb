{
 "cells": [
  {
   "cell_type": "code",
   "execution_count": 7,
   "id": "damaged-speed",
   "metadata": {},
   "outputs": [],
   "source": [
    "import hoomd \n",
    "import hoomd.md\n",
    "import time\n",
    "import gsd.hoomd\n",
    "import gsd\n",
    "import numpy as np\n",
    "from random import randint, uniform\n",
    "from math import sin, cos, pi, sqrt"
   ]
  },
  {
   "cell_type": "code",
   "execution_count": 8,
   "id": "known-sender",
   "metadata": {},
   "outputs": [],
   "source": [
    "class Bead:\n",
    "    def __init__(self, x=0.0, y=0.0, z=0.0, typ='B'):\n",
    "        self.x = x\n",
    "        self.y = y\n",
    "        self.z = z\n",
    "        self.type = typ"
   ]
  },
  {
   "cell_type": "code",
   "execution_count": 9,
   "id": "nominated-sampling",
   "metadata": {},
   "outputs": [
    {
     "data": {
      "text/plain": [
       "<hoomd.context.SimulationContext at 0x7f87a4061700>"
      ]
     },
     "execution_count": 9,
     "metadata": {},
     "output_type": "execute_result"
    }
   ],
   "source": [
    "hoomd.context.initialize(\"\")"
   ]
  },
  {
   "cell_type": "code",
   "execution_count": 14,
   "id": "amino-disaster",
   "metadata": {},
   "outputs": [],
   "source": [
    "if __name__ == \"__main__\":\n",
    "    N = 1000\n",
    "    polymer = []\n",
    "    bondlength = 0.1\n",
    "    bondx = 0\n",
    "    bondy = 0\n",
    "    bondz = 0\n",
    "    for i in range(N):\n",
    "        \"\"\"\n",
    "        giving the bond connecting two beads a random orientation.\n",
    "        phi varies from 0 to pi instead of 2pi to take into accoun self-avoiding walk.\n",
    "        \"\"\"\n",
    "        theta = uniform(0, 3.14)\n",
    "        phi = uniform(-3.14/2, 3.14/2)\n",
    "        mono = Bead()\n",
    "        if i == 0:\n",
    "            mono.type = 'A'\n",
    "            mono.x = 0.0\n",
    "            mono.y = 0.0\n",
    "            mono.z = 0.0\n",
    "        else:\n",
    "            mono.type = 'B'\n",
    "            bondx = bondx + bondlength * sin(theta)*cos(theta)\n",
    "            bondy = bondy + bondlength * sin(theta)*sin(phi)\n",
    "            bondz = bondz + bondlength * cos(theta)\n",
    "            mono.x = bondx\n",
    "            mono.y = bondy\n",
    "            mono.z = bondz\n",
    "        polymer.append(mono)\n",
    "        \n",
    "    fout = open('polymer.xml', 'w')\n",
    "    line1 = '<?xml version=\"1.0\" encoding=\"UTF-8\"?>\\n'\n",
    "    fout.write(line1)\n",
    "    line2='<hoomd_xml>\\n'\n",
    "    fout.write(line2)\n",
    "    line3='<configuration time_step=\"0\">\\n'\n",
    "    fout.write(line3)\n",
    "    \n",
    "    lx = 100.0\n",
    "    ly = 40.0\n",
    "    lz = 40.0\n",
    "    fout.write('<box lx=\"%f\" ly=\"%f\" lz=\"%f\" xy=\"0\" yz=\"0\" xz=\"0\"/>\\n'%(lx,ly,lz))\n",
    "    fout.write('<position>\\n')\n",
    "    for bead in polymer:\n",
    "        line = '%f %f %f \\n' %(bead.x, bead.y, bead.z)\n",
    "        fout.write(line)\n",
    "    fout.write('</position>\\n')\n",
    "    fout.write('<type>\\n')\n",
    "    for bead in polymer:\n",
    "        line='%s\\n' %(bead.type)\n",
    "        fout.write(line)\n",
    "    fout.write('</type>\\n')\n",
    "    fout.write('<body>\\n')\n",
    "    for bead in polymer:\n",
    "        fout.write('-1\\n')\n",
    "    fout.write('</body>\\n')\n",
    "    fout.write('<bond>\\n')\n",
    "    for j in range(len(polymer)-1):\n",
    "        line='polymer %d %d\\n'%(j,j+1)\n",
    "        fout.write(line)\n",
    "    fout.write('</bond>\\n')\n",
    "    fout.write('</configuration>\\n')\n",
    "    fout.write('</hoomd_xml>\\n')\n",
    "    fout.close()\n",
    "    \n",
    "    system = deprecated.init.read_xml(filename=\"polymer.xml\")\n",
    "    nl = md.nlist.tree(check_period=1)\n",
    "    walls = md.wall.group()\n",
    "    walls.add_plane(origin=(0.0, 0.0, 0.0))"
   ]
  },
  {
   "cell_type": "code",
   "execution_count": 16,
   "id": "excessive-mediterranean",
   "metadata": {},
   "outputs": [],
   "source": [
    "from pathlib import Path"
   ]
  },
  {
   "cell_type": "code",
   "execution_count": 18,
   "id": "fundamental-gibson",
   "metadata": {},
   "outputs": [
    {
     "data": {
      "text/plain": [
       "[PosixPath('.ipynb_checkpoints'), PosixPath('test_data')]"
      ]
     },
     "execution_count": 18,
     "metadata": {},
     "output_type": "execute_result"
    }
   ],
   "source": [
    "p = Path('.')\n",
    "[x for x in p.iterdir() if x.is_dir()]"
   ]
  },
  {
   "cell_type": "code",
   "execution_count": 19,
   "id": "graphic-timer",
   "metadata": {},
   "outputs": [
    {
     "data": {
      "text/plain": [
       "[PosixPath('slab_density_profile.py')]"
      ]
     },
     "execution_count": 19,
     "metadata": {},
     "output_type": "execute_result"
    }
   ],
   "source": [
    "list(p.glob('**/*.py'))"
   ]
  },
  {
   "cell_type": "code",
   "execution_count": 20,
   "id": "warming-talent",
   "metadata": {},
   "outputs": [
    {
     "data": {
      "text/plain": [
       "333.333"
      ]
     },
     "execution_count": 20,
     "metadata": {},
     "output_type": "execute_result"
    }
   ],
   "source": [
    "Lx_in_nm = 15                    # box size x-direction in nm (1D = 4,5A --> 15 nm = 33.333 D)\n",
    "Ly_in_nm = 15                    # box size y-direction in nm (1D = 4,5A --> 15 nm =  33.333 D)\n",
    "Lz_in_nm = 150                    # box size z-direction in nm (1D = 4,5A --> 75 nm =  166.667 D)\n",
    "\n",
    "distUnit_in_A = 4.5                  # distance unit [A]: 1D = 4.5A\n",
    "\n",
    "Lx = round(10.0 * Lx_in_nm / distUnit_in_A, 3)\n",
    "Ly = round(10.0 * Ly_in_nm / distUnit_in_A, 3)\n",
    "Lz = round(10.0 * Lz_in_nm / distUnit_in_A, 3)\n",
    "\n",
    "\n",
    "Ly\n",
    "Lz"
   ]
  },
  {
   "cell_type": "code",
   "execution_count": 21,
   "id": "suspended-basketball",
   "metadata": {},
   "outputs": [
    {
     "data": {
      "text/plain": [
       "33.333"
      ]
     },
     "execution_count": 21,
     "metadata": {},
     "output_type": "execute_result"
    }
   ],
   "source": [
    "Lx"
   ]
  },
  {
   "cell_type": "code",
   "execution_count": 22,
   "id": "unauthorized-robinson",
   "metadata": {},
   "outputs": [
    {
     "data": {
      "text/plain": [
       "33.333"
      ]
     },
     "execution_count": 22,
     "metadata": {},
     "output_type": "execute_result"
    }
   ],
   "source": [
    "Ly"
   ]
  },
  {
   "cell_type": "code",
   "execution_count": 23,
   "id": "cutting-documentation",
   "metadata": {},
   "outputs": [
    {
     "data": {
      "text/plain": [
       "333.333"
      ]
     },
     "execution_count": 23,
     "metadata": {},
     "output_type": "execute_result"
    }
   ],
   "source": [
    "Lz"
   ]
  },
  {
   "cell_type": "code",
   "execution_count": null,
   "id": "intelligent-development",
   "metadata": {},
   "outputs": [],
   "source": []
  },
  {
   "cell_type": "code",
   "execution_count": null,
   "id": "bearing-barcelona",
   "metadata": {},
   "outputs": [],
   "source": []
  },
  {
   "cell_type": "code",
   "execution_count": null,
   "id": "rental-lawrence",
   "metadata": {},
   "outputs": [],
   "source": []
  },
  {
   "cell_type": "code",
   "execution_count": null,
   "id": "driving-sample",
   "metadata": {},
   "outputs": [],
   "source": []
  },
  {
   "cell_type": "code",
   "execution_count": null,
   "id": "collaborative-tournament",
   "metadata": {},
   "outputs": [],
   "source": []
  },
  {
   "cell_type": "code",
   "execution_count": null,
   "id": "normal-filling",
   "metadata": {},
   "outputs": [],
   "source": []
  },
  {
   "cell_type": "code",
   "execution_count": null,
   "id": "crazy-insulation",
   "metadata": {},
   "outputs": [],
   "source": []
  },
  {
   "cell_type": "code",
   "execution_count": null,
   "id": "local-society",
   "metadata": {},
   "outputs": [],
   "source": []
  },
  {
   "cell_type": "code",
   "execution_count": null,
   "id": "rapid-police",
   "metadata": {},
   "outputs": [],
   "source": []
  },
  {
   "cell_type": "code",
   "execution_count": null,
   "id": "valued-expansion",
   "metadata": {},
   "outputs": [],
   "source": []
  },
  {
   "cell_type": "code",
   "execution_count": null,
   "id": "stone-appointment",
   "metadata": {},
   "outputs": [],
   "source": []
  },
  {
   "cell_type": "code",
   "execution_count": null,
   "id": "spoken-bargain",
   "metadata": {},
   "outputs": [],
   "source": []
  },
  {
   "cell_type": "code",
   "execution_count": null,
   "id": "thermal-swiss",
   "metadata": {},
   "outputs": [],
   "source": []
  }
 ],
 "metadata": {
  "kernelspec": {
   "display_name": "Python 3",
   "language": "python",
   "name": "python3"
  },
  "language_info": {
   "codemirror_mode": {
    "name": "ipython",
    "version": 3
   },
   "file_extension": ".py",
   "mimetype": "text/x-python",
   "name": "python",
   "nbconvert_exporter": "python",
   "pygments_lexer": "ipython3",
   "version": "3.9.2"
  }
 },
 "nbformat": 4,
 "nbformat_minor": 5
}
