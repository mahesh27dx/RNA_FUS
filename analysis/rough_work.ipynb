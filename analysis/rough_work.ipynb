{
 "cells": [
  {
   "cell_type": "code",
   "execution_count": null,
   "id": "damaged-speed",
   "metadata": {},
   "outputs": [],
   "source": [
    "import hoomd \n",
    "import hoomd.md\n",
    "import time\n",
    "import gsd.hoomd\n",
    "import gsd\n",
    "import math"
   ]
  },
  {
   "cell_type": "code",
   "execution_count": 2,
   "id": "known-sender",
   "metadata": {},
   "outputs": [
    {
     "name": "stdout",
     "output_type": "stream",
     "text": [
      "HOOMD-blue 2.9.7 DOUBLE HPMC_MIXED SSE SSE2 \n",
      "Compiled: 01/18/2023\n",
      "Copyright (c) 2009-2019 The Regents of the University of Michigan.\n",
      "-----\n",
      "You are using HOOMD-blue. Please cite the following:\n",
      "* J A Anderson, J Glaser, and S C Glotzer. \"HOOMD-blue: A Python package for\n",
      "  high-performance molecular dynamics and hard particle Monte Carlo\n",
      "  simulations\", Computational Materials Science 173 (2020) 109363\n",
      "-----\n",
      "HOOMD-blue is running on the CPU\n",
      "notice(2): Group \"all\" created containing 125 particles\n",
      "notice(2): integrate.langevin/bd is using specified gamma values\n",
      "notice(2): -- Neighborlist exclusion statistics -- :\n",
      "notice(2): Particles with 0 exclusions             : 125\n",
      "notice(2): Neighbors included by diameter          : no\n",
      "notice(2): Neighbors excluded when in the same body: no\n",
      "** starting run **\n",
      "Time 00:00:01 | Step 1000 / 1000 | TPS 789.285 | ETA 00:00:00\n",
      "Average TPS: 788.903\n",
      "---------\n",
      "-- Neighborlist stats:\n",
      "28 normal updates / 10 forced updates / 0 dangerous updates\n",
      "n_neigh_min: 10 / n_neigh_max: 17 / n_neigh_avg: 12.672\n",
      "shortest rebuild period: 20\n",
      "-- Cell list stats:\n",
      "Dimension: 3, 3, 3\n",
      "n_min    : 2 / n_max: 8 / n_avg: 4.62963\n",
      "** run complete **\n"
     ]
    }
   ],
   "source": [
    "# Initializing from snapshot\n",
    "hoomd.context.initialize(\"\")\n",
    "hoomd.init.create_lattice(unitcell=hoomd.lattice.sc(a=2.0), n=5)\n",
    "nl = hoomd.md.nlist.cell()\n",
    "\n",
    "tersoff = hoomd.md.pair.tersoff(2.5, nl, name=None)\n",
    "tersoff.pair_coeff.set('A', 'A', C1=1)\n",
    "\n",
    "hoomd.md.integrate.mode_standard(dt=0.005)\n",
    "all = hoomd.group.all()\n",
    "hoomd.md.integrate.langevin(group=all, kT=0.2, seed=42)\n",
    "\n",
    "hoomd.analyze.log(filename=\"tersoff.log\",\n",
    "                 quantities=['potential_energy'],\n",
    "                 period=10000,\n",
    "                 overwrite=True)\n",
    "hoomd.dump.gsd(\"tersoff.gsd\", period=1e5, group=all, overwrite=True)\n",
    "\n",
    "hoomd.run(1e3)"
   ]
  },
  {
   "cell_type": "code",
   "execution_count": null,
   "id": "nominated-sampling",
   "metadata": {},
   "outputs": [],
   "source": []
  },
  {
   "cell_type": "code",
   "execution_count": null,
   "id": "amino-disaster",
   "metadata": {},
   "outputs": [],
   "source": []
  },
  {
   "cell_type": "code",
   "execution_count": null,
   "id": "damaged-domestic",
   "metadata": {},
   "outputs": [],
   "source": []
  },
  {
   "cell_type": "code",
   "execution_count": null,
   "id": "excessive-mediterranean",
   "metadata": {},
   "outputs": [],
   "source": []
  },
  {
   "cell_type": "code",
   "execution_count": null,
   "id": "crazy-insulation",
   "metadata": {},
   "outputs": [],
   "source": []
  },
  {
   "cell_type": "code",
   "execution_count": null,
   "id": "local-society",
   "metadata": {},
   "outputs": [],
   "source": []
  },
  {
   "cell_type": "code",
   "execution_count": null,
   "id": "rapid-police",
   "metadata": {},
   "outputs": [],
   "source": []
  },
  {
   "cell_type": "code",
   "execution_count": null,
   "id": "valued-expansion",
   "metadata": {},
   "outputs": [],
   "source": []
  },
  {
   "cell_type": "code",
   "execution_count": null,
   "id": "stone-appointment",
   "metadata": {},
   "outputs": [],
   "source": []
  },
  {
   "cell_type": "code",
   "execution_count": null,
   "id": "spoken-bargain",
   "metadata": {},
   "outputs": [],
   "source": []
  },
  {
   "cell_type": "code",
   "execution_count": null,
   "id": "thermal-swiss",
   "metadata": {},
   "outputs": [],
   "source": []
  }
 ],
 "metadata": {
  "kernelspec": {
   "display_name": "Python 3",
   "language": "python",
   "name": "python3"
  },
  "language_info": {
   "codemirror_mode": {
    "name": "ipython",
    "version": 3
   },
   "file_extension": ".py",
   "mimetype": "text/x-python",
   "name": "python",
   "nbconvert_exporter": "python",
   "pygments_lexer": "ipython3",
   "version": "3.9.2"
  }
 },
 "nbformat": 4,
 "nbformat_minor": 5
}
